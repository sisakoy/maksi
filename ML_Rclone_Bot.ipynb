{
  "nbformat": 4,
  "nbformat_minor": 0,
  "metadata": {
    "colab": {
      "provenance": []
    },
    "kernelspec": {
      "name": "python3",
      "display_name": "Python 3"
    },
    "language_info": {
      "name": "python"
    }
  },
  "cells": [
    {
      "cell_type": "code",
      "source": [
        "#@title 🔶Bot Setup🔶\n",
        "\n",
        "Config_ENV_URL = \"\" #@param {type:\"string\"}\n",
        "\n",
        "\n",
        "from os.path import exists, expanduser\n",
        "from urllib.request import urlretrieve\n",
        "from IPython.display import clear_output\n",
        "from google.colab.output import clear\n",
        "\n",
        "\n",
        "HOME = expanduser(\"~\")\n",
        "if not exists(f\"{HOME}/.ipython/ocr.py\"):\n",
        "    hCode = \"https://raw.githubusercontent.com/biplobsd/\" \\\n",
        "                \"OneClickRun/master/res/ocr.py\"\n",
        "    urlretrieve(hCode, f\"{HOME}/.ipython/ocr.py\")\n",
        "from ocr import (\n",
        "    runSh,\n",
        "    loadingAn,\n",
        ")\n",
        "\n",
        "REPO = \"https://github.com/sisakoy/maksi.git\"\n",
        "CD = REPO.split(\"/\")[-1].replace(\".git\", \"\")\n",
        "\n",
        "# loadingAn()\n",
        "runSh(f'git clone {REPO}')\n",
        "%cd $CD\n",
        "clear()\n",
        "print(\"🔶Installing Aria2 and 7zip\")\n",
        "runSh('apt-get install -y aria2 p7zip-rar')\n",
        "print(\"🔶Installing Rclone\")\n",
        "runSh('wget https://rclone.org/install.sh')\n",
        "runSh('sudo bash install.sh')\n",
        "print(\"🔶Installing Requirements\")\n",
        "runSh(f'wget -O config.env {Config_ENV_URL}')\n",
        "runSh('pip install -r requirements.txt')\n",
        "clear_output()\n",
        "\n",
        "!python3 -m bot\n",
        "\n",
        "\n"
      ],
      "metadata": {
        "cellView": "form",
        "id": "00Jwj5_NbpZF"
      },
      "execution_count": null,
      "outputs": []
    },
    {
      "cell_type": "code",
      "source": [
        "!python3 -m bot"
      ],
      "metadata": {
        "id": "as0bXout-LQG"
      },
      "execution_count": null,
      "outputs": []
    }
  ]
}
